{
 "cells": [
  {
   "cell_type": "markdown",
   "metadata": {},
   "source": [
    "#  ***Cours intensif de Python***"
   ]
  },
  {
   "cell_type": "markdown",
   "metadata": {},
   "source": [
    "> (La cellule ci-dessous exécute le style de ce bloc-note.)"
   ]
  },
  {
   "cell_type": "code",
   "execution_count": 1,
   "metadata": {},
   "outputs": [
    {
     "data": {
      "text/html": [
       "<link href='http://fonts.googleapis.com/css?family=Fenix' rel='stylesheet' type='text/css'>\n",
       "<link href='http://fonts.googleapis.com/css?family=Alegreya+Sans:100,300,400,500,700,800,900,100italic,300italic,400italic,500italic,700italic,800italic,900italic' rel='stylesheet' type='text/css'>\n",
       "<link href='http://fonts.googleapis.com/css?family=Source+Code+Pro:300,400' rel='stylesheet' type='text/css'>\n",
       "<style>\n",
       "    @font-face {\n",
       "        font-family: \"Computer Modern\";\n",
       "        src: url('http://mirrors.ctan.org/fonts/cm-unicode/fonts/otf/cmunss.otf');\n",
       "    }\n",
       "    div.cell{\n",
       "        width:800px;\n",
       "        margin-left:16% !important;\n",
       "        margin-right:auto;\n",
       "    }\n",
       "    h1 {\n",
       "        font-family: 'Alegreya Sans', sans-serif;\n",
       "    }\n",
       "    h2 {\n",
       "        font-family: 'Fenix', serif;\n",
       "    }\n",
       "    h3{\n",
       "\t\tfont-family: 'Fenix', serif;\n",
       "        margin-top:12px;\n",
       "        margin-bottom: 3px;\n",
       "       }\n",
       "\th4{\n",
       "\t\tfont-family: 'Fenix', serif;\n",
       "       }\n",
       "    h5 {\n",
       "        font-family: 'Alegreya Sans', sans-serif;\n",
       "    }\t   \n",
       "    div.text_cell_render{\n",
       "        font-family: 'Alegreya Sans',Computer Modern, \"Helvetica Neue\", Arial, Helvetica, Geneva, sans-serif;\n",
       "        line-height: 135%;\n",
       "        font-size: 120%;\n",
       "        width:600px;\n",
       "        margin-left:auto;\n",
       "        margin-right:auto;\n",
       "    }\n",
       "    .CodeMirror{\n",
       "            font-family: \"Source Code Pro\";\n",
       "\t\t\tfont-size: 90%;\n",
       "    }\n",
       "/*    .prompt{\n",
       "        display: None;\n",
       "    }*/\n",
       "    .text_cell_render h1 {\n",
       "        font-weight: 200;\n",
       "        font-size: 50pt;\n",
       "\t\tline-height: 100%;\n",
       "        color:#CD2305;\n",
       "        margin-bottom: 0.5em;\n",
       "        margin-top: 0.5em;\n",
       "        display: block;\n",
       "    }\t\n",
       "    .text_cell_render h5 {\n",
       "        font-weight: 300;\n",
       "        font-size: 16pt;\n",
       "        color: #CD2305;\n",
       "        font-style: italic;\n",
       "        margin-bottom: .5em;\n",
       "        margin-top: 0.5em;\n",
       "        display: block;\n",
       "    }\n",
       "    \n",
       "    .warning{\n",
       "        color: rgb( 240, 20, 20 )\n",
       "        }  \n",
       "</style>\n",
       "<script>\n",
       "    MathJax.Hub.Config({\n",
       "                        TeX: {\n",
       "                           extensions: [\"AMSmath.js\"]\n",
       "                           },\n",
       "                tex2jax: {\n",
       "                    inlineMath: [ ['$','$'], [\"\\\\(\",\"\\\\)\"] ],\n",
       "                    displayMath: [ ['$$','$$'], [\"\\\\[\",\"\\\\]\"] ]\n",
       "                },\n",
       "                displayAlign: 'center', // Change this to 'center' to center equations.\n",
       "                \"HTML-CSS\": {\n",
       "                    styles: {'.MathJax_Display': {\"margin\": 4}}\n",
       "                }\n",
       "        });\n",
       "</script>\n"
      ],
      "text/plain": [
       "<IPython.core.display.HTML object>"
      ]
     },
     "execution_count": 1,
     "metadata": {},
     "output_type": "execute_result"
    }
   ],
   "source": [
    "from IPython.core.display import HTML\n",
    "def css_styling():\n",
    "    styles = open(\"../styles/custom.css\", \"r\").read()\n",
    "    return HTML(styles)\n",
    "css_styling()"
   ]
  },
  {
   "cell_type": "markdown",
   "metadata": {},
   "source": [
    "Bonjour! Ceci est une introduction rapide à la programmation en Python pour vous aider à démarrer avec les _12 étapes vers Navier–Stokes_.\n",
    "\n",
    "Il existe deux façons de profiter de ces leçons avec Python :\n",
    "\n",
    "1. Vous pouvez télécharger et installer une distribution Python sur votre ordinateur. Une option est la distribution gratuite [Anaconda Scientific Python](https://store.continuum.io/cshop/anaconda/). Une autre est [Canopy](https://www.enought.com/products/canopy/academic/), qui est gratuite pour un usage académique. Notre recommandation est Anaconda.\n",
    "\n",
    "2. Vous pouvez exécuter Python dans le cloud à l'aide de la plateforme  [Wakari](https://wakari.io/) d'analyse de données en ligne, pour laquelle vous devez créer un compte gratuit. (Aucune installation de logiciel requise !)\n",
    "\n",
    "Dans les deux cas, vous voudrez probablement télécharger une copie de ce notebook, ou toute la collection AeroPython. Nous vous recommandons ensuite de suivre chaque leçon, d'expérimenter le code dans les notebooks ou de saisir le code dans une session interactive Python distincte.\n",
    "\n",
    "Si vous avez décidé de travailler sur votre installation Python locale, vous devrez naviguer dans le terminal jusqu'au dossier contenant les fichiers .ipynb. Ensuite, pour lancer le serveur de notebooks, tapez simplement :\n",
    "ipython notebook\n",
    "\n",
    "Vous obtiendrez une nouvelle fenêtre ou un nouvel onglet de navigateur avec une liste des notebooks disponibles dans ce dossier. Cliquez sur un et commencez à travailler !"
   ]
  },
  {
   "cell_type": "markdown",
   "metadata": {},
   "source": [
    "## Libraries"
   ]
  },
  {
   "cell_type": "markdown",
   "metadata": {},
   "source": [
    "Python est un langage open source de haut niveau. Mais le \"monde Python\" est habité par de nombreux packages ou bibliothèques qui fournissent des éléments utiles tels que des opérations sur les tableaux, des fonctions de traçage et bien plus encore. Nous pouvons importer des bibliothèques de fonctions pour étendre les capacités de Python dans nos programmes.\n",
    "\n",
    "D'ACCORD! Nous allons commencer par importer quelques bibliothèques pour nous aider. Premièrement : notre bibliothèque préférée est **NumPy**, fournissant un tas d'opérations de tableau utiles (similaire à MATLAB). Nous allons beaucoup l'utiliser ! La deuxième bibliothèque dont nous avons besoin est **Matplotlib**, une bibliothèque pour tracer des graphes 2D que nous utiliserons pour tracer nos résultats.\n",
    "Le code suivant sera en haut de la plupart de vos programmes, alors exécutez d'abord cette cellule :"
   ]
  },
  {
   "cell_type": "code",
   "execution_count": 2,
   "metadata": {},
   "outputs": [],
   "source": [
    "# <-- comments in python are denoted by the pound sign, like this one\n",
    "\n",
    "import numpy                 # we import the array library\n",
    "from matplotlib import pyplot    # import plotting library"
   ]
  },
  {
   "cell_type": "markdown",
   "metadata": {},
   "source": [
    "Nous importons une bibliothèque nommée numpy et nous importons un module appelé pyplot d'une grande bibliothèque appelée matplotlib. Pour utiliser une fonction appartenant à l'une de ces bibliothèques, nous devons dire à Python où la chercher. Pour cela, chaque nom de fonction est écrit après le nom de la bibliothèque, avec un point entre les deux. Donc, si nous voulons utiliser la fonction linspace() de numpy, qui crée un tableau avec des nombres équidistants entre un début et une fin, nous l'appelons en écrivant :\n",
    "\n"
   ]
  },
  {
   "cell_type": "code",
   "execution_count": 3,
   "metadata": {},
   "outputs": [
    {
     "data": {
      "text/plain": [
       "array([0.        , 0.55555556, 1.11111111, 1.66666667, 2.22222222,\n",
       "       2.77777778, 3.33333333, 3.88888889, 4.44444444, 5.        ])"
      ]
     },
     "execution_count": 3,
     "metadata": {},
     "output_type": "execute_result"
    }
   ],
   "source": [
    "myarray = numpy.linspace(0, 5, 10)\n",
    "myarray"
   ]
  },
  {
   "cell_type": "markdown",
   "metadata": {},
   "source": [
    "Si nous ne précédons pas la fonction linspace() par numpy, Python renverra une erreur."
   ]
  },
  {
   "cell_type": "code",
   "execution_count": 4,
   "metadata": {},
   "outputs": [
    {
     "ename": "NameError",
     "evalue": "name 'linspace' is not defined",
     "output_type": "error",
     "traceback": [
      "\u001b[0;31m---------------------------------------------------------------------------\u001b[0m",
      "\u001b[0;31mNameError\u001b[0m                                 Traceback (most recent call last)",
      "Input \u001b[0;32mIn [4]\u001b[0m, in \u001b[0;36m<cell line: 1>\u001b[0;34m()\u001b[0m\n\u001b[0;32m----> 1\u001b[0m myarray \u001b[38;5;241m=\u001b[39m \u001b[43mlinspace\u001b[49m(\u001b[38;5;241m0\u001b[39m, \u001b[38;5;241m5\u001b[39m, \u001b[38;5;241m10\u001b[39m)\n",
      "\u001b[0;31mNameError\u001b[0m: name 'linspace' is not defined"
     ]
    }
   ],
   "source": [
    "myarray = linspace(0, 5, 10)"
   ]
  },
  {
   "cell_type": "markdown",
   "metadata": {},
   "source": [
    "La fonction `linspace()` est très utile. Essayez-la en modifiant les paramètres d'entrée !\n",
    "\n",
    "**Import style:**\n",
    "\n",
    "Vous verrez souvent des extraits de code qui utilisent les lignes suivantes\n",
    "```Python\n",
    "import numpy as np\n",
    "import matplotlib.pyplot as plt\n",
    "```\n",
    "Qu'est-ce que c'est que toute cette affaire de \"import\" ?\n",
    "C'est un moyen de créer un \"raccourci\" vers la bibliothèque NumPy et le module pyplot. Vous le verrez fréquemment car il est d'usage courant, mais nous préférons garder les importations explicites. Nous pensons que cela aide à la lisibilité du code.\n",
    "\n",
    "**Conseil de pro:**\n",
    "\n",
    "Parfois, vous verrez des gens importer une bibliothèque entière sans lui attribuer de raccourci (comme `from numpy import *`). Cela évite de taper mais est bâclé et peut vous causer des ennuis. Mieux vaut prendre de bonnes habitudes dès le début !\n",
    "\n",
    "Pour découvrir les nouvelles fonctions à votre disposition, visitez la page [NumPy Reference](http://docs.scipy.org/doc/numpy/reference/). Si vous êtes un utilisateur compétent de `Matlab`, il existe une page wiki qui devrait vous être utile : [NumPy for Matlab Users](http://wiki.scipy.org/NumPy_for_Matlab_Users)\n",
    "\n"
   ]
  },
  {
   "cell_type": "markdown",
   "metadata": {},
   "source": [
    "## Variables"
   ]
  },
  {
   "cell_type": "markdown",
   "metadata": {},
   "source": [
    "Python doesn't require explicitly declared variable types like C and other languages.  \n",
    "Python ne nécessite pas une déclaration explicite des variables comme l'exige des langages comme Fortran, C, C++ et java."
   ]
  },
  {
   "cell_type": "code",
   "execution_count": null,
   "metadata": {},
   "outputs": [],
   "source": [
    "a = 5        # a est un entier 5\n",
    "b = 'cinq'   # b est une chaîne de caractères 'cinq'\n",
    "c = 5.0      # c est nombre à virgule flottante (flottant) 5.0"
   ]
  },
  {
   "cell_type": "code",
   "execution_count": null,
   "metadata": {},
   "outputs": [],
   "source": [
    "type(a)"
   ]
  },
  {
   "cell_type": "code",
   "execution_count": null,
   "metadata": {},
   "outputs": [],
   "source": [
    "type(b)"
   ]
  },
  {
   "cell_type": "code",
   "execution_count": null,
   "metadata": {},
   "outputs": [],
   "source": [
    "type(c)"
   ]
  },
  {
   "cell_type": "markdown",
   "metadata": {},
   "source": [
    "Notez que si vous divisez un entier par un entier qui donne un reste, le résultat sera converti en un flottant. (Ceci est *différent* du comportement de Python 2.7, méfiez-vous !)"
   ]
  },
  {
   "cell_type": "markdown",
   "metadata": {},
   "source": [
    "## Whitespace in Python"
   ]
  },
  {
   "cell_type": "markdown",
   "metadata": {},
   "source": [
    "Python utilise des retraits (tabulations) et des espaces pour regrouper les instructions. Pour écrire une boucle courte en C, vous pouvez utiliser :\n",
    "\n",
    "    for (i = 0, i < 5, i++){\n",
    "       printf(\"Hi! \\n\");\n",
    "    }"
   ]
  },
  {
   "cell_type": "markdown",
   "metadata": {},
   "source": [
    "Python n'utilise pas d'accolades comme C, donc le même programme que ci-dessus est écrit en Python comme suit :"
   ]
  },
  {
   "cell_type": "code",
   "execution_count": null,
   "metadata": {},
   "outputs": [],
   "source": [
    "for i in range(5):\n",
    "    print(\"Hi\")"
   ]
  },
  {
   "cell_type": "markdown",
   "metadata": {},
   "source": [
    "Si vous avez des boucles for imbriquées, il y a un retrait supplémentaire pour la boucle interne."
   ]
  },
  {
   "cell_type": "code",
   "execution_count": null,
   "metadata": {},
   "outputs": [],
   "source": [
    "for i in range(3):\n",
    "    for j in range(3):\n",
    "        print(i, j)\n",
    "    \n",
    "    print(\"Cette instruction se trouve dans la boucle i, mais pas dans la boucle j\")"
   ]
  },
  {
   "cell_type": "markdown",
   "metadata": {},
   "source": [
    "## Slicing Arrays"
   ]
  },
  {
   "cell_type": "markdown",
   "metadata": {},
   "source": [
    "Dans NumPy, vous pouvez regarder des portions de tableaux de la même manière que dans `Matlab`, avec quelques astuces supplémentaires. Prenons un tableau de valeurs de 1 à 5."
   ]
  },
  {
   "cell_type": "code",
   "execution_count": null,
   "metadata": {},
   "outputs": [],
   "source": [
    "myvals = numpy.array([1, 2, 3, 4, 5])\n",
    "myvals"
   ]
  },
  {
   "cell_type": "markdown",
   "metadata": {},
   "source": [
    "\n",
    "Python utilise un **index basé sur zéro **, alors regardons le premier et le dernier élément du tableau `myvals`"
   ]
  },
  {
   "cell_type": "code",
   "execution_count": null,
   "metadata": {},
   "outputs": [],
   "source": [
    "myvals[0], myvals[4]"
   ]
  },
  {
   "cell_type": "markdown",
   "metadata": {},
   "source": [
    "Il y a 5 éléments dans le tableau myvals, mais si nous essayons de regarder myvals[5], Python sera mécontent, car myvals[5] appelle en fait le 6ème élément inexistant de ce tableau."
   ]
  },
  {
   "cell_type": "code",
   "execution_count": null,
   "metadata": {},
   "outputs": [],
   "source": [
    "myvals[5]"
   ]
  },
  {
   "cell_type": "markdown",
   "metadata": {},
   "source": [
    "Les tableaux peuvent également être \"découpés\", en saisissant une plage de valeurs. Regardons les trois premiers éléments"
   ]
  },
  {
   "cell_type": "code",
   "execution_count": null,
   "metadata": {},
   "outputs": [],
   "source": [
    "myvals[0:3]"
   ]
  },
  {
   "cell_type": "markdown",
   "metadata": {},
   "source": [
    "Notez ici que la tranche est inclusive à l'avant (début) et exclusive à l'arrière (fin), donc la commande ci-dessus nous donne les valeurs de myvals[0], myvals[1] et myvals[2], mais pas myvals[3]."
   ]
  },
  {
   "cell_type": "markdown",
   "metadata": {},
   "source": [
    "## Affectation de variables de tableau"
   ]
  },
  {
   "cell_type": "markdown",
   "metadata": {},
   "source": [
    "L'une des petites bizarreries/fonctionnalités étranges de Python qui déroute souvent les gens apparaît lors de l'attribution et de la comparaison de tableaux de valeurs. Voici un exemple rapide. Commençons par définir un tableau 1-D appelé $a$ :"
   ]
  },
  {
   "cell_type": "code",
   "execution_count": null,
   "metadata": {},
   "outputs": [],
   "source": [
    "a = numpy.linspace(1,5,5)"
   ]
  },
  {
   "cell_type": "code",
   "execution_count": null,
   "metadata": {},
   "outputs": [],
   "source": [
    "a"
   ]
  },
  {
   "cell_type": "markdown",
   "metadata": {},
   "source": [
    "OK, nous avons donc un tableau 𝑎, avec les valeurs 1 à 5. Je veux faire une copie de ce tableau, appelé 𝑏, donc je vais essayer ce qui suit :"
   ]
  },
  {
   "cell_type": "code",
   "execution_count": null,
   "metadata": {},
   "outputs": [],
   "source": [
    "b = a"
   ]
  },
  {
   "cell_type": "code",
   "execution_count": null,
   "metadata": {},
   "outputs": [],
   "source": [
    "b"
   ]
  },
  {
   "cell_type": "markdown",
   "metadata": {},
   "source": [
    "Génial. Donc $a$ a les valeurs de 1 à 5 et maintenant aussi $b$. Maintenant que j'ai une sauvegarde de $a$, je peux modifier ses valeurs sans craindre de perdre des données (du moins je peux le penser !)."
   ]
  },
  {
   "cell_type": "code",
   "execution_count": null,
   "metadata": {},
   "outputs": [],
   "source": [
    "a[2] = 17"
   ]
  },
  {
   "cell_type": "code",
   "execution_count": null,
   "metadata": {},
   "outputs": [],
   "source": [
    "a"
   ]
  },
  {
   "cell_type": "markdown",
   "metadata": {},
   "source": [
    "Ici, le 3e élément de $a$ a été remplacé par 17. Vérifions maintenant $b$."
   ]
  },
  {
   "cell_type": "code",
   "execution_count": null,
   "metadata": {},
   "outputs": [],
   "source": [
    "b"
   ]
  },
  {
   "cell_type": "markdown",
   "metadata": {},
   "source": [
    "Et c'est comme ça que les choses tournent mal ! Lorsque vous utilisez une instruction comme $a = b$, plutôt que de copier toutes les valeurs de $a$ dans un nouveau tableau appelé $b$, Python crée simplement un alias (ou un pointeur) appelé $b$ et lui dit de router nous à $a$. Donc, si nous modifions une valeur dans $a$, alors $b$ reflétera ce changement (techniquement, cela s'appelle *affectation par référence*). Si vous voulez faire une copie fidèle du tableau, vous devez dire à Python de copier chaque élément de $a$ dans un nouveau tableau. Appelons-le $c$."
   ]
  },
  {
   "cell_type": "code",
   "execution_count": null,
   "metadata": {},
   "outputs": [],
   "source": [
    "c = a.copy()"
   ]
  },
  {
   "cell_type": "markdown",
   "metadata": {},
   "source": [
    "Maintenant, nous pouvons réessayer de changer une valeur dans $a$ et voir si les changements sont également visibles dans $c$."
   ]
  },
  {
   "cell_type": "code",
   "execution_count": null,
   "metadata": {},
   "outputs": [],
   "source": [
    "a[2] = 3"
   ]
  },
  {
   "cell_type": "code",
   "execution_count": null,
   "metadata": {},
   "outputs": [],
   "source": [
    "a"
   ]
  },
  {
   "cell_type": "code",
   "execution_count": null,
   "metadata": {},
   "outputs": [],
   "source": [
    "c"
   ]
  },
  {
   "cell_type": "markdown",
   "metadata": {},
   "source": [
    "OK, ça a marché ! Si la différence entre `b = a` et `c = a.copy()` n'est pas claire, vous devriez relire ceci. Sinon, ce problème reviendra vous hanter."
   ]
  },
  {
   "cell_type": "markdown",
   "metadata": {},
   "source": [
    "## Learn More"
   ]
  },
  {
   "cell_type": "markdown",
   "metadata": {},
   "source": [
    "Il existe de nombreuses ressources en ligne pour en savoir plus sur l'utilisation de NumPy et d'autres bibliothèques. Juste pour le plaisir, nous utilisons ici la fonctionnalité de Jupyter pour intégrer des vidéos pour vous diriger vers une courte vidéo sur YouTube sur l'utilisation des tableaux NumPy."
   ]
  },
  {
   "cell_type": "code",
   "execution_count": null,
   "metadata": {},
   "outputs": [],
   "source": [
    "from IPython.display import YouTubeVideo\n",
    "# a short video about using NumPy arrays, from Enthought\n",
    "YouTubeVideo('vWkb7VahaXQ')"
   ]
  }
 ],
 "metadata": {
  "kernelspec": {
   "display_name": "Python 3 (ipykernel)",
   "language": "python",
   "name": "python3"
  },
  "language_info": {
   "codemirror_mode": {
    "name": "ipython",
    "version": 3
   },
   "file_extension": ".py",
   "mimetype": "text/x-python",
   "name": "python",
   "nbconvert_exporter": "python",
   "pygments_lexer": "ipython3",
   "version": "3.10.8"
  }
 },
 "nbformat": 4,
 "nbformat_minor": 1
}

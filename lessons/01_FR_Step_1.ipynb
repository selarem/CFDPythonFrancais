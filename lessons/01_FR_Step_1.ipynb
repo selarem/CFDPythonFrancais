{
 "cells": [
  {
   "cell_type": "code",
   "execution_count": 1,
   "metadata": {},
   "outputs": [
    {
     "data": {
      "text/html": [
       "<link href='http://fonts.googleapis.com/css?family=Fenix' rel='stylesheet' type='text/css'>\n",
       "<link href='http://fonts.googleapis.com/css?family=Alegreya+Sans:100,300,400,500,700,800,900,100italic,300italic,400italic,500italic,700italic,800italic,900italic' rel='stylesheet' type='text/css'>\n",
       "<link href='http://fonts.googleapis.com/css?family=Source+Code+Pro:300,400' rel='stylesheet' type='text/css'>\n",
       "<style>\n",
       "    @font-face {\n",
       "        font-family: \"Computer Modern\";\n",
       "        src: url('http://mirrors.ctan.org/fonts/cm-unicode/fonts/otf/cmunss.otf');\n",
       "    }\n",
       "    div.cell{\n",
       "        width:800px;\n",
       "        margin-left:16% !important;\n",
       "        margin-right:auto;\n",
       "    }\n",
       "    h1 {\n",
       "        font-family: 'Alegreya Sans', sans-serif;\n",
       "    }\n",
       "    h2 {\n",
       "        font-family: 'Fenix', serif;\n",
       "    }\n",
       "    h3{\n",
       "\t\tfont-family: 'Fenix', serif;\n",
       "        margin-top:12px;\n",
       "        margin-bottom: 3px;\n",
       "       }\n",
       "\th4{\n",
       "\t\tfont-family: 'Fenix', serif;\n",
       "       }\n",
       "    h5 {\n",
       "        font-family: 'Alegreya Sans', sans-serif;\n",
       "    }\t   \n",
       "    div.text_cell_render{\n",
       "        font-family: 'Alegreya Sans',Computer Modern, \"Helvetica Neue\", Arial, Helvetica, Geneva, sans-serif;\n",
       "        line-height: 135%;\n",
       "        font-size: 120%;\n",
       "        width:600px;\n",
       "        margin-left:auto;\n",
       "        margin-right:auto;\n",
       "    }\n",
       "    .CodeMirror{\n",
       "            font-family: \"Source Code Pro\";\n",
       "\t\t\tfont-size: 90%;\n",
       "    }\n",
       "/*    .prompt{\n",
       "        display: None;\n",
       "    }*/\n",
       "    .text_cell_render h1 {\n",
       "        font-weight: 200;\n",
       "        font-size: 50pt;\n",
       "\t\tline-height: 100%;\n",
       "        color:#CD2305;\n",
       "        margin-bottom: 0.5em;\n",
       "        margin-top: 0.5em;\n",
       "        display: block;\n",
       "    }\t\n",
       "    .text_cell_render h5 {\n",
       "        font-weight: 300;\n",
       "        font-size: 16pt;\n",
       "        color: #CD2305;\n",
       "        font-style: italic;\n",
       "        margin-bottom: .5em;\n",
       "        margin-top: 0.5em;\n",
       "        display: block;\n",
       "    }\n",
       "    \n",
       "    .warning{\n",
       "        color: rgb( 240, 20, 20 )\n",
       "        }  \n",
       "</style>\n",
       "<script>\n",
       "    MathJax.Hub.Config({\n",
       "                        TeX: {\n",
       "                           extensions: [\"AMSmath.js\"]\n",
       "                           },\n",
       "                tex2jax: {\n",
       "                    inlineMath: [ ['$','$'], [\"\\\\(\",\"\\\\)\"] ],\n",
       "                    displayMath: [ ['$$','$$'], [\"\\\\[\",\"\\\\]\"] ]\n",
       "                },\n",
       "                displayAlign: 'center', // Change this to 'center' to center equations.\n",
       "                \"HTML-CSS\": {\n",
       "                    styles: {'.MathJax_Display': {\"margin\": 4}}\n",
       "                }\n",
       "        });\n",
       "</script>\n"
      ],
      "text/plain": [
       "<IPython.core.display.HTML object>"
      ]
     },
     "execution_count": 1,
     "metadata": {},
     "output_type": "execute_result"
    }
   ],
   "source": [
    "from IPython.core.display import HTML\n",
    "def css_styling():\n",
    "    styles = open(\"../styles/custom.css\", \"r\").read()\n",
    "    return HTML(styles)\n",
    "css_styling()"
   ]
  },
  {
   "cell_type": "markdown",
   "metadata": {},
   "source": [
    "***12 étapes vers Navier–Stokes***\n",
    "======\n",
    "***"
   ]
  },
  {
   "cell_type": "markdown",
   "metadata": {},
   "source": [
    "Bonjour! Bienvenue aux **12 étapes vers Navier–Stokes**. Il s'agit d'un module pratique qui est utilisé au début d'un cours interactif de dynamique des fluides numérique (CFD: computational fluid dynamics) enseigné par [Prof. Lorena Barba](http://lorenabarba.com) depuis le printemps 2009 à l'Université de Boston. Le cours ne suppose que des connaissances de base en programmation (dans n'importe quel langage) et bien sûr des bases en équations aux dérivées partielles et en mécanique des fluides. Le module pratique a été inspiré par les idées du Dr Rio Yokota, qui était post-doctorant dans le laboratoire de Barba, et a été affiné par le professeur Barba et ses étudiants au cours de plusieurs semestres d'enseignement du cours. Le cours est entièrement enseigné à l'aide de Python et les étudiants qui ne connaissent pas Python apprennent simplement au fur et à mesure que nous progressons dans le module.\n",
    "\n",
    "Ce [bloc-notes Jupyter](https://jupyter-notebook.readthedocs.io/en/stable/) vous guidera à travers la première étape de la programmation de votre propre solveur Navier–Stokes en Python à partir de zéro. Nous allons plonger directement. Ne vous inquiétez pas si vous ne comprenez pas tout ce qui se passe au début, nous le couvrirons en détail au fur et à mesure que nous avancerons et vous pourrez soutenir votre apprentissage avec les vidéos de [Prof. Les conférences de Barba sur YouTube](http://www.youtube.com/playlist?list=PL30F4C5ABCE62CB61).\n",
    "\n",
    "Pour de meilleurs résultats, après avoir suivi ce bloc-notes, préparez votre propre code pour l'étape 1, soit sous forme de script Python, soit dans un bloc-notes Jupyter propre.\n",
    "\n",
    "Pour exécuter ce bloc-notes, nous supposons que vous avez invoqué le serveur de bloc-notes à l'aide de : jupyter notebook."
   ]
  },
  {
   "cell_type": "markdown",
   "metadata": {},
   "source": [
    "Etape 1:  Convection linéaire 1-D\n",
    "-----\n",
    "***"
   ]
  },
  {
   "cell_type": "markdown",
   "metadata": {},
   "source": [
    "L'équation de convection linéaire 1-D est le modèle le plus simple et le plus basique qui peut être utilisé pour apprendre quelque chose sur la CFD. Il est étonnant que cette petite équation puisse nous apprendre autant ! C'est ici:\n",
    "\n",
    "$$\\frac{\\partial u}{\\partial t} + c \\frac{\\partial u}{\\partial x} = 0$$\n",
    "\n",
    "Avec des conditions initiales données (à comprendre comme une *onde*), l'équation représente la propagation de cette *onde* initiale avec une vitesse $c$, sans changement de forme. Soit la condition initiale \n",
    "$u(x,0)=u_0(x)$. Alors la solution exacte de l'équation est:\n",
    "\n",
    "$$u(x,t)=u_0(x-ct)$$\n",
    "\n",
    "Nous discrétisons cette équation à la fois dans l'espace et dans le temps, en utilisant le schéma de différence avant pour la dérivée temporelle et le schéma de différence arrière pour la dérivée spatiale. \n",
    "Considérons la discrétisation de la coordonnée spatiale $x$ en points que nous indexons de $i=0$ à $N$, et pas à pas dans des intervalles de temps discrets de taille $\\Delta t$.\n",
    "\n",
    "De la définition d'une dérivée (et en supprimant simplement la limite), nous savons que :\n",
    "\n",
    "\n",
    "$$\\frac{\\partial u}{\\partial x}\\approx \\frac{u(x+\\Delta x)-u(x)}{\\Delta x}$$\n",
    " \n",
    "Notre équation discrète devient donc :\n",
    "\n",
    "$$\\frac{u_i^{n+1}-u_i^n}{\\Delta t} + c \\frac{u_i^n - u_{i-1}^n}{\\Delta x} = 0 $$\n",
    "\n",
    "Où $n$ et $n+1$ sont deux pas consécutifs dans le temps, tandis que $i-1$ et $i$ sont deux points voisins de la coordonnée $x$ discrétisée. Si des conditions initiales sont données, alors la seule inconnue dans cette discrétisation est $u_i^{n+1}$. Nous pouvons résoudre notre inconnue pour obtenir une équation qui nous permet d'avancer dans le temps, comme suit :\n",
    "\n",
    "$$u_i^{n+1} = u_i^n - c \\frac{\\Delta t}{\\Delta x}(u_i^n-u_{i-1}^n)$$\n",
    "\n",
    "Essayons maintenant de l'implémenter en Python.\n",
    "\n",
    "Nous allons commencer par importer quelques bibliothèques pour nous aider.\n",
    "\n",
    "* `numpy` est une bibliothèque qui fournit un tas d'opérations matricielles utiles similaires à MATLAB\n",
    "* `matplotlib` est une bibliothèque de tracé 2D que nous utiliserons pour tracer nos résultats\n",
    "* `time` and `sys` fournir des fonctions de synchronisation de base que nous utiliserons pour ralentir les animations pour la visualisation"
   ]
  },
  {
   "cell_type": "code",
   "execution_count": 2,
   "metadata": {},
   "outputs": [],
   "source": [
    "# Rappel : les commentaires en python sont indiqués par le signe dièse\n",
    "import numpy                       # ici on charge numpy\n",
    "from matplotlib import pyplot      # ici nous chargeons matplotlib\n",
    "import time, sys                   # ainsi que quelques utilitaires\n"
   ]
  },
  {
   "cell_type": "code",
   "execution_count": 3,
   "metadata": {},
   "outputs": [],
   "source": [
    "#cela fait apparaître les tracés matplotlib dans le notebook (au lieu d'une fenêtre séparée)\n",
    "%matplotlib inline                  "
   ]
  },
  {
   "cell_type": "markdown",
   "metadata": {},
   "source": [
    "Définissons maintenant quelques variables ; nous voulons définir une grille de points régulièrement espacés dans un domaine spatial de longueur égale à `2`, c'est-à-dire 𝑥𝑖∈(0,2). Nous définirons une variable nx, qui sera le nombre de points de grille que nous voulons et dx sera la distance entre n'importe quelle paire de points de grille adjacents.\n",
    "\n"
   ]
  },
  {
   "cell_type": "code",
   "execution_count": 4,
   "metadata": {},
   "outputs": [],
   "source": [
    "nx = 81  #  essayez de changer ce nombre de 41 à 81 et Run All ... que se passe-t-il ?\n",
    "dx = 2 / (nx-1)\n",
    "nt = 25    # nt est le nombre de pas de temps que nous voulons calculer\n",
    "dt = .025  # dt est la durée couverte par chaque pas de temps (delta t)\n",
    "c = 1      # supposons une vitesse d'onde c = 1"
   ]
  },
  {
   "cell_type": "markdown",
   "metadata": {},
   "source": [
    "Nous devons également mettre en place nos conditions initiales. La vitesse initiale $𝑢_0$ est donnée par $𝑢=2$ dans l'intervalle $0.5 \\leq x \\leq 1$ et $𝑢=1$ partout ailleurs dans (0,2) (c'est-à-dire une fonction chapeau).\n",
    "Ici, nous utilisons la fonction `ones()` définissant un tableau `numpy` qui est long de `nx` éléments avec chaque valeur égale à $1$."
   ]
  },
  {
   "cell_type": "code",
   "execution_count": 5,
   "metadata": {},
   "outputs": [
    {
     "name": "stdout",
     "output_type": "stream",
     "text": [
      "[1. 1. 1. 1. 1. 1. 1. 1. 1. 1. 1. 1. 1. 1. 1. 1. 1. 1. 1. 1. 2. 2. 2. 2.\n",
      " 2. 2. 2. 2. 2. 2. 2. 2. 2. 2. 2. 2. 2. 2. 2. 2. 2. 1. 1. 1. 1. 1. 1. 1.\n",
      " 1. 1. 1. 1. 1. 1. 1. 1. 1. 1. 1. 1. 1. 1. 1. 1. 1. 1. 1. 1. 1. 1. 1. 1.\n",
      " 1. 1. 1. 1. 1. 1. 1. 1. 1.]\n"
     ]
    }
   ],
   "source": [
    "u = numpy.ones(nx)      # la fonction ones() de numpy\n",
    "u[int(.5 / dx):int(1 / dx + 1)] = 2  # on prend u = 2 entre 0,5 et 1 selon nos C.I.\n",
    "print(u)"
   ]
  },
  {
   "cell_type": "markdown",
   "metadata": {},
   "source": [
    "Examinons maintenant ces conditions initiales à l'aide d'un graphique Matplotlib. Nous avons importé la bibliothèque de traçage `matplotlib` `pyplot` et la fonction de traçage s'appelle `plot`, nous appellerons donc `pyplot.plot`. Pour en savoir plus sur les innombrables possibilités de Matplotlib, explorez la [Galerie](http://matplotlib.org/gallery.html) d'exemples de tracés.\n",
    "\n",
    "Ici, nous utilisons la syntaxe d'un tracé 2D simple : `plot(x,y)`, où les valeurs `x` sont des points de grille uniformément répartis :"
   ]
  },
  {
   "cell_type": "code",
   "execution_count": 6,
   "metadata": {},
   "outputs": [
    {
     "data": {
      "image/png": "[encoded data removed]",
      "text/plain": [
       "<Figure size 432x288 with 1 Axes>"
      ]
     },
     "metadata": {
      "needs_background": "light"
     },
     "output_type": "display_data"
    }
   ],
   "source": [
    "pyplot.plot(numpy.linspace(0, 2, nx), u);"
   ]
  },
  {
   "cell_type": "markdown",
   "metadata": {},
   "source": [
    "Pourquoi la fonction chapeau n'a-t-elle pas des côtés parfaitement droits ? Réfléchissez un peu.\n",
    "\n"
   ]
  },
  {
   "cell_type": "markdown",
   "metadata": {},
   "source": [
    "Il est maintenant temps d'implémenter la discrétisation de l'équation de convection en utilisant un schéma aux différences finies.\n",
    "\n",
    "Pour chaque élément de notre tableau `u`, nous devons effectuer l'opération $u_i^{n+1} = u_i^n - c \\frac{\\Delta t}{\\Delta x}(u_i^n-u_{i -1}^n)$\n",
    "\n",
    "\n",
    "Nous stockerons le résultat dans un nouveau tableau (temporaire) `un`, qui sera la solution $u$ pour le prochain pas de temps. Nous répéterons cette opération pour autant de pas de temps que nous spécifierons et nous pourrons alors voir jusqu'où l'onde a convecté.\n",
    "\n",
    "Nous initialisons d'abord notre tableau d'espace réservé `un` pour contenir les valeurs que nous calculons pour le pas de temps $n + 1$, en utilisant à nouveau la fonction NumPy `ones()`.\n",
    "\n",
    "Ensuite, nous pouvons penser que nous avons deux opérations itératives : une dans l'espace et une dans le temps (nous apprendrons différemment plus tard), alors nous commencerons par imbriquer une boucle dans l'autre. Notez l'utilisation de la fonction astucieuse `range()`. Lorsque nous écrivons : `for i in range(1,nx)` nous parcourrons le tableau `u`, mais nous sauterons le premier élément (le zéro-ième élément). *Pourquoi?*"
   ]
  },
  {
   "cell_type": "code",
   "execution_count": 7,
   "metadata": {},
   "outputs": [],
   "source": [
    "un = numpy.ones(nx) #initialize a temporary array\n",
    "\n",
    "for n in range(nt):  #loop for values of n from 0 to nt, so it will run nt times\n",
    "    un = u.copy() ##copy the existing values of u into un\n",
    "    for i in range(1, nx): ## you can try commenting this line and...\n",
    "    #for i in range(nx): ## ... uncommenting this line and see what happens!\n",
    "        u[i] = un[i] - c * dt / dx * (un[i] - un[i-1])\n",
    "        \n",
    "        "
   ]
  },
  {
   "cell_type": "markdown",
   "metadata": {},
   "source": [
    "**Remarque** : nous apprendrons plus tard que le code tel qu'il est écrit ci-dessus est assez inefficace et qu'il existe de meilleures façons de l'écrire, à la manière de Python. Mais continuons.\n",
    "\n",
    "Essayons maintenant de tracer notre tableau `u` après avoir avancé dans le temps."
   ]
  },
  {
   "cell_type": "code",
   "execution_count": 8,
   "metadata": {},
   "outputs": [
    {
     "data": {
      "image/png": "[encoded data removed]",
      "text/plain": [
       "<Figure size 432x288 with 1 Axes>"
      ]
     },
     "metadata": {
      "needs_background": "light"
     },
     "output_type": "display_data"
    }
   ],
   "source": [
    "pyplot.plot(numpy.linspace(0, 2, nx), u);"
   ]
  },
  {
   "cell_type": "markdown",
   "metadata": {},
   "source": [
    "D'ACCORD! Donc, notre fonction de chapeau s'est définitivement déplacée vers la droite, mais ce n'est plus un chapeau. **Que se passe-t-il?**"
   ]
  },
  {
   "cell_type": "markdown",
   "metadata": {},
   "source": [
    "Apprendre encore plus\n",
    "-----\n",
    "***"
   ]
  },
  {
   "cell_type": "markdown",
   "metadata": {},
   "source": [
    "Pour une explication plus approfondie de la méthode des différences finies, y compris des sujets tels que l'erreur de troncature, l'ordre de convergence et d'autres détails, regardez **Leçons 2 et 3** du professeur Barba sur YouTube."
   ]
  },
  {
   "cell_type": "code",
   "execution_count": 9,
   "metadata": {},
   "outputs": [
    {
     "data": {
      "image/jpeg": "[encoded data removed]",
      "text/html": [
       "\n",
       "        <iframe\n",
       "            width=\"400\"\n",
       "            height=\"300\"\n",
       "            src=\"https://www.youtube.com/embed/iz22_37mMkk\"\n",
       "            frameborder=\"0\"\n",
       "            allowfullscreen\n",
       "            \n",
       "        ></iframe>\n",
       "        "
      ],
      "text/plain": [
       "<IPython.lib.display.YouTubeVideo at 0x7f18fed87be0>"
      ]
     },
     "execution_count": 9,
     "metadata": {},
     "output_type": "execute_result"
    }
   ],
   "source": [
    "from IPython.display import YouTubeVideo\n",
    "YouTubeVideo('iz22_37mMkk')"
   ]
  },
  {
   "cell_type": "code",
   "execution_count": 10,
   "metadata": {},
   "outputs": [
    {
     "data": {
      "image/jpeg": "[encoded data removed]",
      "text/html": [
       "\n",
       "        <iframe\n",
       "            width=\"400\"\n",
       "            height=\"300\"\n",
       "            src=\"https://www.youtube.com/embed/xq9YTcv-fQg\"\n",
       "            frameborder=\"0\"\n",
       "            allowfullscreen\n",
       "            \n",
       "        ></iframe>\n",
       "        "
      ],
      "text/plain": [
       "<IPython.lib.display.YouTubeVideo at 0x7f18f6c42bf0>"
      ]
     },
     "execution_count": 10,
     "metadata": {},
     "output_type": "execute_result"
    }
   ],
   "source": [
    "YouTubeVideo('xq9YTcv-fQg')"
   ]
  },
  {
   "cell_type": "markdown",
   "metadata": {},
   "source": [
    "Pour une présentation détaillée de la discrétisation de l'équation de convection linéaire aux différences finies (et également des étapes suivantes, jusqu'à l'étape 4), regardez la leçon 4 du professeur Barba sur YouTube."
   ]
  },
  {
   "cell_type": "code",
   "execution_count": 11,
   "metadata": {},
   "outputs": [
    {
     "data": {
      "image/jpeg": "[encoded data removed]",
      "text/html": [
       "\n",
       "        <iframe\n",
       "            width=\"400\"\n",
       "            height=\"300\"\n",
       "            src=\"https://www.youtube.com/embed/y2WaK7_iMRI\"\n",
       "            frameborder=\"0\"\n",
       "            allowfullscreen\n",
       "            \n",
       "        ></iframe>\n",
       "        "
      ],
      "text/plain": [
       "<IPython.lib.display.YouTubeVideo at 0x7f18fed87e20>"
      ]
     },
     "execution_count": 11,
     "metadata": {},
     "output_type": "execute_result"
    }
   ],
   "source": [
    "YouTubeVideo('y2WaK7_iMRI')"
   ]
  },
  {
   "cell_type": "markdown",
   "metadata": {},
   "source": [
    "## Enfin et surtout"
   ]
  },
  {
   "cell_type": "markdown",
   "metadata": {},
   "source": [
    "**N'oubliez pas** de réécrire l'étape 1 sous la forme d'un nouveau script Python ou dans *votre propre* bloc-notes Jupyter, puis expérimentez en modifiant les paramètres de discrétisation. Une fois que vous avez fait cela, vous serez prêt pour [Étape 2](./02_FR_Step_2.ipynb).\n",
    "\n",
    "***"
   ]
  },
  {
   "cell_type": "code",
   "execution_count": null,
   "metadata": {},
   "outputs": [],
   "source": []
  }
 ],
 "metadata": {
  "kernelspec": {
   "display_name": "Python 3 (ipykernel)",
   "language": "python",
   "name": "python3"
  },
  "language_info": {
   "codemirror_mode": {
    "name": "ipython",
    "version": 3
   },
   "file_extension": ".py",
   "mimetype": "text/x-python",
   "name": "python",
   "nbconvert_exporter": "python",
   "pygments_lexer": "ipython3",
   "version": "3.10.8"
  }
 },
 "nbformat": 4,
 "nbformat_minor": 1
}

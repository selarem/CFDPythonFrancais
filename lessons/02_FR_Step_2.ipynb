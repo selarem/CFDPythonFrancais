{
 "cells": [
  {
   "cell_type": "code",
   "execution_count": 7,
   "metadata": {},
   "outputs": [
    {
     "data": {
      "text/html": [
       "<link href='http://fonts.googleapis.com/css?family=Fenix' rel='stylesheet' type='text/css'>\n",
       "<link href='http://fonts.googleapis.com/css?family=Alegreya+Sans:100,300,400,500,700,800,900,100italic,300italic,400italic,500italic,700italic,800italic,900italic' rel='stylesheet' type='text/css'>\n",
       "<link href='http://fonts.googleapis.com/css?family=Source+Code+Pro:300,400' rel='stylesheet' type='text/css'>\n",
       "<style>\n",
       "    @font-face {\n",
       "        font-family: \"Computer Modern\";\n",
       "        src: url('http://mirrors.ctan.org/fonts/cm-unicode/fonts/otf/cmunss.otf');\n",
       "    }\n",
       "    div.cell{\n",
       "        width:800px;\n",
       "        margin-left:16% !important;\n",
       "        margin-right:auto;\n",
       "    }\n",
       "    h1 {\n",
       "        font-family: 'Alegreya Sans', sans-serif;\n",
       "    }\n",
       "    h2 {\n",
       "        font-family: 'Fenix', serif;\n",
       "    }\n",
       "    h3{\n",
       "\t\tfont-family: 'Fenix', serif;\n",
       "        margin-top:12px;\n",
       "        margin-bottom: 3px;\n",
       "       }\n",
       "\th4{\n",
       "\t\tfont-family: 'Fenix', serif;\n",
       "       }\n",
       "    h5 {\n",
       "        font-family: 'Alegreya Sans', sans-serif;\n",
       "    }\t   \n",
       "    div.text_cell_render{\n",
       "        font-family: 'Alegreya Sans',Computer Modern, \"Helvetica Neue\", Arial, Helvetica, Geneva, sans-serif;\n",
       "        line-height: 135%;\n",
       "        font-size: 120%;\n",
       "        width:600px;\n",
       "        margin-left:auto;\n",
       "        margin-right:auto;\n",
       "    }\n",
       "    .CodeMirror{\n",
       "            font-family: \"Source Code Pro\";\n",
       "\t\t\tfont-size: 90%;\n",
       "    }\n",
       "/*    .prompt{\n",
       "        display: None;\n",
       "    }*/\n",
       "    .text_cell_render h1 {\n",
       "        font-weight: 200;\n",
       "        font-size: 50pt;\n",
       "\t\tline-height: 100%;\n",
       "        color:#CD2305;\n",
       "        margin-bottom: 0.5em;\n",
       "        margin-top: 0.5em;\n",
       "        display: block;\n",
       "    }\t\n",
       "    .text_cell_render h5 {\n",
       "        font-weight: 300;\n",
       "        font-size: 16pt;\n",
       "        color: #CD2305;\n",
       "        font-style: italic;\n",
       "        margin-bottom: .5em;\n",
       "        margin-top: 0.5em;\n",
       "        display: block;\n",
       "    }\n",
       "    \n",
       "    .warning{\n",
       "        color: rgb( 240, 20, 20 )\n",
       "        }  \n",
       "</style>\n",
       "<script>\n",
       "    MathJax.Hub.Config({\n",
       "                        TeX: {\n",
       "                           extensions: [\"AMSmath.js\"]\n",
       "                           },\n",
       "                tex2jax: {\n",
       "                    inlineMath: [ ['$','$'], [\"\\\\(\",\"\\\\)\"] ],\n",
       "                    displayMath: [ ['$$','$$'], [\"\\\\[\",\"\\\\]\"] ]\n",
       "                },\n",
       "                displayAlign: 'center', // Change this to 'center' to center equations.\n",
       "                \"HTML-CSS\": {\n",
       "                    styles: {'.MathJax_Display': {\"margin\": 4}}\n",
       "                }\n",
       "        });\n",
       "</script>\n"
      ],
      "text/plain": [
       "<IPython.core.display.HTML object>"
      ]
     },
     "execution_count": 7,
     "metadata": {},
     "output_type": "execute_result"
    }
   ],
   "source": [
    "from IPython.core.display import HTML\n",
    "def css_styling():\n",
    "    styles = open(\"../styles/custom.css\", \"r\").read()\n",
    "    return HTML(styles)\n",
    "css_styling()"
   ]
  },
  {
   "cell_type": "markdown",
   "metadata": {},
   "source": [
    "***12 étapes vers Navier–Stokes***\n",
    "======\n",
    "***"
   ]
  },
  {
   "cell_type": "markdown",
   "metadata": {},
   "source": [
    "Ce note-book Jupyter poursuit la présentation des **12 étapes vers Navier–Stokes**, le module pratique enseigné dans la classe interactive CFD de [Prof. Lorena Barba] (http://lorenabarba.com). Vous devriez avoir terminé [Step 1](./01_FR_Step_1.ipynb) avant de continuer, avoir écrit votre propre script ou note-book Python et avoir expérimenté en faisant varier les paramètres de la discrétisation et en observant ce qui se passe."
   ]
  },
  {
   "cell_type": "markdown",
   "metadata": {},
   "source": [
    "Étape 2 : Convection non linéaire\n",
    "-----\n",
    "***"
   ]
  },
  {
   "cell_type": "markdown",
   "metadata": {},
   "source": [
    "Nous allons maintenant implémenter la convection non linéaire en utilisant les mêmes méthodes qu'à l'étape 1. L'équation de convection en 1D est :\n",
    "$$\\frac{\\partial u}{\\partial t} + u \\frac{\\partial u}{\\partial x} = 0$$\n",
    "\n",
    "Au lieu d'un facteur constant $c$ multipliant le second terme, nous avons maintenant la solution $u$ le multipliant. Ainsi, le deuxième terme de l'équation est maintenant *non linéaire*. Nous allons utiliser la même discrétisation qu'à l'étape 1 - différence avant dans le temps et différence arrière dans l'espace. Voici l'équation discrétisée.\n",
    "\n",
    "$$\\frac{u_i^{n+1}-u_i^n}{\\Delta t} + u_i^n \\frac{u_i^n-u_{i-1}^n}{\\Delta x} = 0$$\n",
    "\n",
    "La résolution pour déterminer le seul terme inconnu, $u_i^{n+1}$, donne :\n",
    "\n",
    "$$u_i^{n+1} = u_i^n - u_i^n \\frac{\\Delta t}{\\Delta x} (u_i^n - u_{i-1}^n)$$"
   ]
  },
  {
   "cell_type": "markdown",
   "metadata": {},
   "source": [
    "Comme précédemment, le code Python commence par charger les bibliothèques nécessaires. Ensuite, nous déclarons quelques variables qui déterminent la discrétisation dans l'espace et dans le temps (vous devriez expérimenter en modifiant ces paramètres pour voir ce qui se passe). Ensuite, on crée la condition initiale $u_0$ en initialisant le tableau pour la solution en utilisant $u = 2\\ \\text{ pour } \\ 0.5 \\leq x \\leq 1$ et $u = 1$ partout ailleurs dans $(0,2)$ ( c'est-à-dire une fonction chapeau)."
   ]
  },
  {
   "cell_type": "code",
   "execution_count": 8,
   "metadata": {},
   "outputs": [],
   "source": [
    "import numpy                 # on importe numpy \n",
    "from matplotlib import pyplot    # ainsi que notre librairie graphique en 2D\n",
    "%matplotlib inline\n",
    "\n",
    "\n",
    "nx = 401 #41\n",
    "dx = 2 / (nx - 1)\n",
    "nt = 200   #nt est le nombre de pas de temps qu'on veut calculer \n",
    "dt = .0025  #dt est la durée d'un pas de temps (delta t)\n",
    "\n",
    "u = numpy.ones(nx)      # comme précédemment, nous initialisons u = 1 partout.\n",
    "u[int(.5 / dx) : int(1 / dx + 1)] = 2  # puis u = 2 entre 0,5 et 1 selon nos C.I.\n",
    "\n",
    "un = numpy.ones(nx) #initialiser notre tableau d'espace réservé un, pour contenir la solution échelonnée dans le temps"
   ]
  },
  {
   "cell_type": "markdown",
   "metadata": {},
   "source": [
    "L'extrait de code ci-dessous est *inachevé*. Nous avons copié la ligne de [Step 1](./01_FR_Step_1.ipynb) qui exécute la mise à jour du pas de temps. Pouvez-vous modifier ce code pour exécuter la convection non linéaire à la place ?"
   ]
  },
  {
   "cell_type": "code",
   "execution_count": 9,
   "metadata": {},
   "outputs": [
    {
     "data": {
      "text/plain": [
       "[<matplotlib.lines.Line2D at 0x7fab66c8fd00>]"
      ]
     },
     "execution_count": 9,
     "metadata": {},
     "output_type": "execute_result"
    },
    {
     "data": {
      "image/png": "[encoded data removed]",
      "text/plain": [
       "<Figure size 432x288 with 1 Axes>"
      ]
     },
     "metadata": {
      "needs_background": "light"
     },
     "output_type": "display_data"
    }
   ],
   "source": [
    "for n in range(nt):  # parcourir les instants de temps\n",
    "    un = u.copy() # copier les valeurs existantes de u dans un\n",
    "    for i in range(1, nx):  # maintenant nous allons parcourir le tableau u          \n",
    "        ###Ci-dessous   la ligne de l'étape 1, copiée exactement. Modifiez-la \n",
    "        ###pour notre nouvelle équation.\n",
    "        ### puis décommentez-la et exécutez la cellule pour évaluer l'étape 2       \n",
    "        u[i] = un[i] - un[i]  * dt / dx * (un[i] - un[i-1])\n",
    "        \n",
    "      \n",
    "      \n",
    "         \n",
    "\n",
    "        \n",
    "pyplot.plot(numpy.linspace(0, 2, nx), u) ##Plot the results"
   ]
  },
  {
   "cell_type": "markdown",
   "metadata": {},
   "source": [
    "Qu'observez-vous sur l'évolution de la fonction chapeau sous l'équation de convection non linéaire ? Que se passe-t-il lorsque vous modifiez les paramètres numériques et exécutez à nouveau ?"
   ]
  },
  {
   "cell_type": "markdown",
   "metadata": {},
   "source": [
    "##  Pour en savoir plus"
   ]
  },
  {
   "cell_type": "markdown",
   "metadata": {},
   "source": [
    "Pour une présentation détaillée de la discrétisation de l'équation de convection aux différences finies (et de toutes les étapes de 1 à 4), regardez la **Leçon  4** du professeur Barba sur YouTube."
   ]
  },
  {
   "cell_type": "code",
   "execution_count": 10,
   "metadata": {},
   "outputs": [
    {
     "data": {
      "image/jpeg": "[encoded data removed]",
      "text/html": [
       "\n",
       "        <iframe\n",
       "            width=\"400\"\n",
       "            height=\"300\"\n",
       "            src=\"https://www.youtube.com/embed/y2WaK7_iMRI\"\n",
       "            frameborder=\"0\"\n",
       "            allowfullscreen\n",
       "            \n",
       "        ></iframe>\n",
       "        "
      ],
      "text/plain": [
       "<IPython.lib.display.YouTubeVideo at 0x7fab66cd6920>"
      ]
     },
     "execution_count": 10,
     "metadata": {},
     "output_type": "execute_result"
    }
   ],
   "source": [
    "from IPython.display import YouTubeVideo\n",
    "YouTubeVideo('y2WaK7_iMRI')"
   ]
  }
 ],
 "metadata": {
  "kernelspec": {
   "display_name": "Python 3 (ipykernel)",
   "language": "python",
   "name": "python3"
  },
  "language_info": {
   "codemirror_mode": {
    "name": "ipython",
    "version": 3
   },
   "file_extension": ".py",
   "mimetype": "text/x-python",
   "name": "python",
   "nbconvert_exporter": "python",
   "pygments_lexer": "ipython3",
   "version": "3.10.8"
  }
 },
 "nbformat": 4,
 "nbformat_minor": 1
}

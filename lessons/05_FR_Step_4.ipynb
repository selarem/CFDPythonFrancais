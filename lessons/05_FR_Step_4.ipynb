{
 "cells": [
  {
   "cell_type": "raw",
   "metadata": {},
   "source": [
    "Text provided under a Creative Commons Attribution license, CC-BY.  All code is made available under the FSF-approved BSD-3 license.  (c) Lorena A. Barba, Gilbert F. Forsyth 2017. Thanks to NSF for support via CAREER award #1149784."
   ]
  },
  {
   "cell_type": "markdown",
   "metadata": {},
   "source": [
    "[@LorenaABarba](https://twitter.com/LorenaABarba)"
   ]
  },
  {
   "cell_type": "code",
   "execution_count": 1,
   "metadata": {},
   "outputs": [
    {
     "data": {
      "text/html": [
       "<link href='http://fonts.googleapis.com/css?family=Fenix' rel='stylesheet' type='text/css'>\n",
       "<link href='http://fonts.googleapis.com/css?family=Alegreya+Sans:100,300,400,500,700,800,900,100italic,300italic,400italic,500italic,700italic,800italic,900italic' rel='stylesheet' type='text/css'>\n",
       "<link href='http://fonts.googleapis.com/css?family=Source+Code+Pro:300,400' rel='stylesheet' type='text/css'>\n",
       "<style>\n",
       "    @font-face {\n",
       "        font-family: \"Computer Modern\";\n",
       "        src: url('http://mirrors.ctan.org/fonts/cm-unicode/fonts/otf/cmunss.otf');\n",
       "    }\n",
       "    div.cell{\n",
       "        width:800px;\n",
       "        margin-left:16% !important;\n",
       "        margin-right:auto;\n",
       "    }\n",
       "    h1 {\n",
       "        font-family: 'Alegreya Sans', sans-serif;\n",
       "    }\n",
       "    h2 {\n",
       "        font-family: 'Fenix', serif;\n",
       "    }\n",
       "    h3{\n",
       "\t\tfont-family: 'Fenix', serif;\n",
       "        margin-top:12px;\n",
       "        margin-bottom: 3px;\n",
       "       }\n",
       "\th4{\n",
       "\t\tfont-family: 'Fenix', serif;\n",
       "       }\n",
       "    h5 {\n",
       "        font-family: 'Alegreya Sans', sans-serif;\n",
       "    }\t   \n",
       "    div.text_cell_render{\n",
       "        font-family: 'Alegreya Sans',Computer Modern, \"Helvetica Neue\", Arial, Helvetica, Geneva, sans-serif;\n",
       "        line-height: 135%;\n",
       "        font-size: 120%;\n",
       "        width:600px;\n",
       "        margin-left:auto;\n",
       "        margin-right:auto;\n",
       "    }\n",
       "    .CodeMirror{\n",
       "            font-family: \"Source Code Pro\";\n",
       "\t\t\tfont-size: 90%;\n",
       "    }\n",
       "/*    .prompt{\n",
       "        display: None;\n",
       "    }*/\n",
       "    .text_cell_render h1 {\n",
       "        font-weight: 200;\n",
       "        font-size: 50pt;\n",
       "\t\tline-height: 100%;\n",
       "        color:#CD2305;\n",
       "        margin-bottom: 0.5em;\n",
       "        margin-top: 0.5em;\n",
       "        display: block;\n",
       "    }\t\n",
       "    .text_cell_render h5 {\n",
       "        font-weight: 300;\n",
       "        font-size: 16pt;\n",
       "        color: #CD2305;\n",
       "        font-style: italic;\n",
       "        margin-bottom: .5em;\n",
       "        margin-top: 0.5em;\n",
       "        display: block;\n",
       "    }\n",
       "    \n",
       "    .warning{\n",
       "        color: rgb( 240, 20, 20 )\n",
       "        }  \n",
       "</style>\n",
       "<script>\n",
       "    MathJax.Hub.Config({\n",
       "                        TeX: {\n",
       "                           extensions: [\"AMSmath.js\"]\n",
       "                           },\n",
       "                tex2jax: {\n",
       "                    inlineMath: [ ['$','$'], [\"\\\\(\",\"\\\\)\"] ],\n",
       "                    displayMath: [ ['$$','$$'], [\"\\\\[\",\"\\\\]\"] ]\n",
       "                },\n",
       "                displayAlign: 'center', // Change this to 'center' to center equations.\n",
       "                \"HTML-CSS\": {\n",
       "                    styles: {'.MathJax_Display': {\"margin\": 4}}\n",
       "                }\n",
       "        });\n",
       "</script>\n"
      ],
      "text/plain": [
       "<IPython.core.display.HTML object>"
      ]
     },
     "execution_count": 1,
     "metadata": {},
     "output_type": "execute_result"
    }
   ],
   "source": [
    "from IPython.core.display import HTML\n",
    "def css_styling():\n",
    "    styles = open(\"../styles/custom.css\", \"r\").read()\n",
    "    return HTML(styles)\n",
    "css_styling()"
   ]
  },
  {
   "cell_type": "markdown",
   "metadata": {},
   "source": [
    "***12 étapes vers Navier–Stokes***\n",
    "======\n",
    "***"
   ]
  },
  {
   "cell_type": "markdown",
   "metadata": {},
   "source": [
    "Nous continuons notre voyage pour résoudre l'équation de Navier-Stokes avec l'étape 4. Mais ne continuez pas avant d'avoir terminé les étapes précédentes ! En fait, cette prochaine étape sera une combinaison des deux précédentes. Les merveilles de la *réutilisation du code* !"
   ]
  },
  {
   "cell_type": "markdown",
   "metadata": {},
   "source": [
    "Étape 4 : Équation de Burgers\n",
    "----\n",
    "***"
   ]
  },
  {
   "cell_type": "markdown",
   "metadata": {},
   "source": [
    "Vous pouvez en savoir plus sur l'équation de Burgers sur sa [page wikipedia](http://en.wikipedia.org/wiki/Burgers'_equation).\n",
    "\n",
    "L'équation de Burgers dans une dimension spatiale ressemble à ceci :\n",
    "\n",
    "$$\\frac{\\partial u}{\\partial t} + u \\frac{\\partial u}{\\partial x} = \\nu \\frac{\\partial ^2u}{\\partial x^2}$$\n",
    "\n",
    "Comme vous pouvez le voir, c'est une combinaison de convection non linéaire et de diffusion. Il est surprenant de voir tout ce que vous apprenez de cette petite équation soignée !\n",
    "\n",
    "Nous pouvons le discrétiser en utilisant les méthodes que nous avons déjà détaillées dans les étapes [1](./01_Step_1.ipynb) à [3](./04_Step_3.ipynb). En utilisant la différence avant pour le temps, la différence arrière pour l'espace et notre méthode du 2e ordre pour les dérivées secondes, on obtient :\n",
    "\n",
    "$$\\frac{u_i^{n+1}-u_i^n}{\\Delta t} + u_i^n \\frac{u_i^n - u_{i-1}^n}{\\Delta x} = \\nu \\frac{u_{i+1}^n - 2u_i^n + u_{i-1}^n}{\\Delta x^2}$$\n",
    "\n",
    "Comme précédemment, une fois que nous avons une condition initiale, la seule inconnue est $u_i^{n+1}$. Nous avancerons dans le temps comme suit :\n",
    "\n",
    "$$u_i^{n+1} = u_i^n - u_i^n \\frac{\\Delta t}{\\Delta x} (u_i^n - u_{i-1}^n) + \\nu \\frac{\\ Delta t}{\\Delta x^2}(u_{i+1}^n - 2u_i^n + u_{i-1}^n)$$"
   ]
  },
  {
   "cell_type": "markdown",
   "metadata": {},
   "source": [
    "### Conditions initiales et aux limites\n",
    "\n",
    "Pour examiner certaines propriétés intéressantes de l'équation de Burgers, il est utile d'utiliser des conditions initiales et aux limites différentes de celles que nous avons utilisées pour les étapes précédentes.\n",
    "\n",
    "Notre condition initiale pour ce problème va être :\n",
    "\n",
    "\\begin{eqnarray}\n",
    "u &=& -\\frac{2 \\nu}{\\phi} \\frac{\\partial \\phi}{\\partial x} + 4 \\\\\\\n",
    "\\phi &=& \\exp \\bigg(\\frac{-x^2}{4 \\nu} \\bigg) + \\exp \\bigg(\\frac{-(x-2 \\pi)^2}{4 \\nu } \\bigg)\n",
    "\\end{eqnarray}\n",
    "\n",
    "Celle-ci admet une solution analytique, donnée par :\n",
    "\n",
    "\\begin{eqnarray}\n",
    "u &=& -\\frac{2 \\nu}{\\phi} \\frac{\\partial \\phi}{\\partial x} + 4 \\\\\\\n",
    "\\phi &=& \\exp \\bigg(\\frac{-(x-4t)^2}{4 \\nu (t+1)} \\bigg) + \\exp \\bigg(\\frac{-(x-4t - 2 \\pi)^2}{4 \\nu(t+1)} \\bigg)\n",
    "\\end{eqnarray}\n",
    "\n",
    "Notre condition aux limites sera :\n",
    "\n",
    "$$u(0) = u(2\\pi)$$\n",
    "\n",
    "C'est ce qu'on appelle une condition aux limites *périodique*. Faites attention! Cela vous causera un peu de mal de tête si vous ne faites pas attention."
   ]
  },
  {
   "cell_type": "markdown",
   "metadata": {},
   "source": [
    "### Gain de temps avec SymPy\n",
    "\n",
    "\n",
    "La condition initiale que nous utilisons pour l'équation de Burgers peut être un peu pénible à évaluer à la main. La dérivée $\\frac{\\partial \\phi}{\\partial x}$ n'est pas trop difficile, mais il serait facile de laisser tomber un signe ou d'oublier un facteur de $x$ quelque part, donc nous allons utiliser SymPy pour nous aider.\n",
    "\n",
    "[SymPy](http://sympy.org/en/) est la bibliothèque mathématique symbolique pour Python. Il a beaucoup des mêmes fonctionnalités mathématiques symboliques que Mathematica avec l'avantage supplémentaire que nous pouvons facilement traduire ses résultats dans nos calculs Python (il est également gratuit et open source).\n",
    "\n",
    "Commencez par charger la bibliothèque SymPy, ainsi que notre bibliothèque préférée, NumPy."
   ]
  },
  {
   "cell_type": "code",
   "execution_count": 2,
   "metadata": {},
   "outputs": [],
   "source": [
    "import numpy\n",
    "import sympy"
   ]
  },
  {
   "cell_type": "markdown",
   "metadata": {},
   "source": [
    "Nous allons également dire à SymPy que nous voulons que toute sa sortie soit rendue en utilisant $\\LaTeX$. Cela rendra notre cahier magnifique !"
   ]
  },
  {
   "cell_type": "code",
   "execution_count": 3,
   "metadata": {},
   "outputs": [],
   "source": [
    "from sympy import init_printing\n",
    "init_printing(use_latex=True)"
   ]
  },
  {
   "cell_type": "markdown",
   "metadata": {},
   "source": [
    "Start by setting up symbolic variables for the three variables in our initial condition and then type out the full equation for $\\phi$.  We should get a nicely rendered version of our $\\phi$ equation."
   ]
  },
  {
   "cell_type": "code",
   "execution_count": 4,
   "metadata": {},
   "outputs": [
    {
     "data": {
      "image/png": "[encoded data removed]",
      "text/latex": [
       "$\\displaystyle e^{- \\frac{\\left(- 4 t + x - 2 \\pi\\right)^{2}}{4 \\nu \\left(t + 1\\right)}} + e^{- \\frac{\\left(- 4 t + x\\right)^{2}}{4 \\nu \\left(t + 1\\right)}}$"
      ],
      "text/plain": [
       "                  2                2 \n",
       " -(-4⋅t + x - 2⋅π)      -(-4⋅t + x)  \n",
       " ───────────────────    ─────────────\n",
       "     4⋅ν⋅(t + 1)         4⋅ν⋅(t + 1) \n",
       "ℯ                    + ℯ             "
      ]
     },
     "execution_count": 4,
     "metadata": {},
     "output_type": "execute_result"
    }
   ],
   "source": [
    "x, nu, t = sympy.symbols('x nu t')\n",
    "phi = (sympy.exp(-(x - 4 * t)**2 / (4 * nu * (t + 1))) +\n",
    "       sympy.exp(-(x - 4 * t - 2 * sympy.pi)**2 / (4 * nu * (t + 1))))\n",
    "phi"
   ]
  },
  {
   "cell_type": "markdown",
   "metadata": {},
   "source": [
    "C'est peut-être un peu petit, mais ça a l'air correct. Maintenant, évaluer notre dérivée partielle $\\frac{\\partial \\phi}{\\partial x}$ est une tâche triviale."
   ]
  },
  {
   "cell_type": "code",
   "execution_count": 5,
   "metadata": {},
   "outputs": [
    {
     "data": {
      "image/png": "[encoded data removed]",
      "text/latex": [
       "$\\displaystyle - \\frac{\\left(- 8 t + 2 x\\right) e^{- \\frac{\\left(- 4 t + x\\right)^{2}}{4 \\nu \\left(t + 1\\right)}}}{4 \\nu \\left(t + 1\\right)} - \\frac{\\left(- 8 t + 2 x - 4 \\pi\\right) e^{- \\frac{\\left(- 4 t + x - 2 \\pi\\right)^{2}}{4 \\nu \\left(t + 1\\right)}}}{4 \\nu \\left(t + 1\\right)}$"
      ],
      "text/plain": [
       "                           2                                         2 \n",
       "                -(-4⋅t + x)                         -(-4⋅t + x - 2⋅π)  \n",
       "                ─────────────                       ───────────────────\n",
       "                 4⋅ν⋅(t + 1)                            4⋅ν⋅(t + 1)    \n",
       "  (-8⋅t + 2⋅x)⋅ℯ                (-8⋅t + 2⋅x - 4⋅π)⋅ℯ                   \n",
       "- ─────────────────────────── - ───────────────────────────────────────\n",
       "          4⋅ν⋅(t + 1)                         4⋅ν⋅(t + 1)              "
      ]
     },
     "execution_count": 5,
     "metadata": {},
     "output_type": "execute_result"
    }
   ],
   "source": [
    "phiprime = phi.diff(x)\n",
    "phiprime"
   ]
  },
  {
   "cell_type": "markdown",
   "metadata": {},
   "source": [
    "Si vous voulez voir la version non rendue, utilisez simplement la commande d'impression Python."
   ]
  },
  {
   "cell_type": "code",
   "execution_count": 6,
   "metadata": {},
   "outputs": [
    {
     "name": "stdout",
     "output_type": "stream",
     "text": [
      "-(-8*t + 2*x)*exp(-(-4*t + x)**2/(4*nu*(t + 1)))/(4*nu*(t + 1)) - (-8*t + 2*x - 4*pi)*exp(-(-4*t + x - 2*pi)**2/(4*nu*(t + 1)))/(4*nu*(t + 1))\n"
     ]
    }
   ],
   "source": [
    "print(phiprime)"
   ]
  },
  {
   "cell_type": "markdown",
   "metadata": {},
   "source": [
    "### Maintenant quoi?\n",
    "\n",
    "Maintenant que nous avons la version Pythonic de notre dérivée, nous pouvons finir d'écrire l'équation complète de la condition initiale, puis la traduire en une expression Python utilisable. Pour cela, nous utiliserons la fonction *lambdify*, qui prend une équation symbolique SymPy et la transforme en une fonction appelable."
   ]
  },
  {
   "cell_type": "code",
   "execution_count": 7,
   "metadata": {},
   "outputs": [
    {
     "name": "stdout",
     "output_type": "stream",
     "text": [
      "-2*nu*(-(-8*t + 2*x)*exp(-(-4*t + x)**2/(4*nu*(t + 1)))/(4*nu*(t + 1)) - (-8*t + 2*x - 4*pi)*exp(-(-4*t + x - 2*pi)**2/(4*nu*(t + 1)))/(4*nu*(t + 1)))/(exp(-(-4*t + x - 2*pi)**2/(4*nu*(t + 1))) + exp(-(-4*t + x)**2/(4*nu*(t + 1)))) + 4\n"
     ]
    }
   ],
   "source": [
    "from sympy.utilities.lambdify import lambdify\n",
    "\n",
    "u = -2 * nu * (phiprime / phi) + 4\n",
    "print(u)"
   ]
  },
  {
   "cell_type": "markdown",
   "metadata": {},
   "source": [
    "### Lambdifier\n",
    "\n",
    "Pour lambdifier cette expression dans une fonction utilisable, nous indiquons à lambdify quelles variables demander et la fonction à laquelle nous voulons les connecter."
   ]
  },
  {
   "cell_type": "code",
   "execution_count": 8,
   "metadata": {},
   "outputs": [
    {
     "name": "stdout",
     "output_type": "stream",
     "text": [
      "3.49170664206445\n"
     ]
    }
   ],
   "source": [
    "ufunc = lambdify((t, x, nu), u)\n",
    "print(ufunc(1, 4, 3))"
   ]
  },
  {
   "cell_type": "markdown",
   "metadata": {},
   "source": [
    "### Retour à l'équation de Burgers\n",
    "Maintenant que nous avons défini les conditions initiales, nous pouvons continuer et terminer la configuration du problème. Nous pouvons générer le tracé de la condition initiale en utilisant notre fonction lambdifiée."
   ]
  },
  {
   "cell_type": "code",
   "execution_count": 9,
   "metadata": {},
   "outputs": [
    {
     "data": {
      "text/plain": [
       "array([4.        , 4.06283185, 4.12566371, 4.18849556, 4.25132741,\n",
       "       4.31415927, 4.37699112, 4.43982297, 4.50265482, 4.56548668,\n",
       "       4.62831853, 4.69115038, 4.75398224, 4.81681409, 4.87964594,\n",
       "       4.9424778 , 5.00530965, 5.0681415 , 5.13097336, 5.19380521,\n",
       "       5.25663706, 5.31946891, 5.38230077, 5.44513262, 5.50796447,\n",
       "       5.57079633, 5.63362818, 5.69646003, 5.75929189, 5.82212374,\n",
       "       5.88495559, 5.94778745, 6.0106193 , 6.07345115, 6.136283  ,\n",
       "       6.19911486, 6.26194671, 6.32477856, 6.38761042, 6.45044227,\n",
       "       6.51327412, 6.57610598, 6.63893783, 6.70176967, 6.76460125,\n",
       "       6.82742866, 6.89018589, 6.95176632, 6.99367964, 6.72527549,\n",
       "       4.        , 1.27472451, 1.00632036, 1.04823368, 1.10981411,\n",
       "       1.17257134, 1.23539875, 1.29823033, 1.36106217, 1.42389402,\n",
       "       1.48672588, 1.54955773, 1.61238958, 1.67522144, 1.73805329,\n",
       "       1.80088514, 1.863717  , 1.92654885, 1.9893807 , 2.05221255,\n",
       "       2.11504441, 2.17787626, 2.24070811, 2.30353997, 2.36637182,\n",
       "       2.42920367, 2.49203553, 2.55486738, 2.61769923, 2.68053109,\n",
       "       2.74336294, 2.80619479, 2.86902664, 2.9318585 , 2.99469035,\n",
       "       3.0575222 , 3.12035406, 3.18318591, 3.24601776, 3.30884962,\n",
       "       3.37168147, 3.43451332, 3.49734518, 3.56017703, 3.62300888,\n",
       "       3.68584073, 3.74867259, 3.81150444, 3.87433629, 3.93716815,\n",
       "       4.        ])"
      ]
     },
     "execution_count": 9,
     "metadata": {},
     "output_type": "execute_result"
    }
   ],
   "source": [
    "from matplotlib import pyplot\n",
    "%matplotlib inline\n",
    "\n",
    "###variable declarations\n",
    "nx = 101\n",
    "nt = 100\n",
    "dx = 2 * numpy.pi / (nx - 1)\n",
    "nu = .07\n",
    "dt = dx * nu\n",
    "\n",
    "x = numpy.linspace(0, 2 * numpy.pi, nx)\n",
    "un = numpy.empty(nx)\n",
    "t = 0\n",
    "\n",
    "u = numpy.asarray([ufunc(t, x0, nu) for x0 in x])\n",
    "u"
   ]
  },
  {
   "cell_type": "code",
   "execution_count": 10,
   "metadata": {},
   "outputs": [
    {
     "data": {
      "image/png": "[encoded data removed]",
      "text/plain": [
       "<Figure size 1100x700 with 1 Axes>"
      ]
     },
     "metadata": {
      "needs_background": "light"
     },
     "output_type": "display_data"
    }
   ],
   "source": [
    "pyplot.figure(figsize=(11, 7), dpi=100)\n",
    "pyplot.plot(x, u, marker='o', lw=2)\n",
    "pyplot.xlim([0, 2 * numpy.pi])\n",
    "pyplot.ylim([0, 10]);"
   ]
  },
  {
   "cell_type": "markdown",
   "metadata": {},
   "source": [
    "Ce n'est certainement pas la fonction de chapeau à laquelle nous avons eu affaire jusqu'à présent. Nous appelons cela une \"fonction en dents de scie\". Avançons et voyons ce qui se passe. "
   ]
  },
  {
   "cell_type": "markdown",
   "metadata": {},
   "source": [
    "### Conditions aux limites périodiques\n",
    "\n",
    "L'une des grandes différences entre l'étape 4 et les leçons précédentes est l'utilisation de conditions aux limites *périodiques*. Si vous expérimentez les étapes 1 et 2 et que la simulation s'exécute plus longtemps (en augmentant `nt`), vous remarquerez que l'onde continuera de se déplacer vers la droite jusqu'à ce qu'elle n'apparaisse plus dans le tracé.\n",
    "\n",
    "Avec des conditions aux limites périodiques, lorsqu'un point arrive sur le côté droit du cadre, il *s'enroule* vers l'avant du cadre.\n",
    "\n",
    "Rappelons la discrétisation que nous avons élaborée au début de ce cahier :\n",
    "\n",
    "$$u_i^{n+1} = u_i^n - u_i^n \\frac{\\Delta t}{\\Delta x} (u_i^n - u_{i-1}^n) + \\nu \\frac{\\ Delta t}{\\Delta x^2}(u_{i+1}^n - 2u_i^n + u_{i-1}^n)$$\n",
    "\n",
    "Qu'est-ce que $u_{i+1}^n$ *signifie* lorsque $i$ est déjà à la fin de la trame ?\n",
    "\n",
    "Réfléchissez-y une minute avant de continuer.\n",
    "\n"
   ]
  },
  {
   "cell_type": "code",
   "execution_count": 11,
   "metadata": {},
   "outputs": [],
   "source": [
    "for n in range(nt):\n",
    "    un = u.copy()\n",
    "    for i in range(1, nx-1):\n",
    "        u[i] = un[i] - un[i] * dt / dx *(un[i] - un[i-1]) + nu * dt / dx**2 *\\\n",
    "                (un[i+1] - 2 * un[i] + un[i-1])\n",
    "    u[0] = un[0] - un[0] * dt / dx * (un[0] - un[-2]) + nu * dt / dx**2 *\\\n",
    "                (un[1] - 2 * un[0] + un[-2])\n",
    "    u[-1] = u[0]\n",
    "        \n",
    "u_analytical = numpy.asarray([ufunc(nt * dt, xi, nu) for xi in x])"
   ]
  },
  {
   "cell_type": "code",
   "execution_count": 12,
   "metadata": {},
   "outputs": [
    {
     "data": {
      "image/png": "[encoded data removed]",
      "text/plain": [
       "<Figure size 1100x700 with 1 Axes>"
      ]
     },
     "metadata": {
      "needs_background": "light"
     },
     "output_type": "display_data"
    }
   ],
   "source": [
    "pyplot.figure(figsize=(11, 7), dpi=100)\n",
    "pyplot.plot(x,u, marker='o', lw=2, label='Computational')\n",
    "pyplot.plot(x, u_analytical, label='Analytical')\n",
    "pyplot.xlim([0, 2 * numpy.pi])\n",
    "pyplot.ylim([0, 10])\n",
    "pyplot.legend();"
   ]
  },
  {
   "cell_type": "markdown",
   "metadata": {},
   "source": [
    "***\n",
    "\n",
    "Et ensuite ?\n",
    "----\n",
    "\n",
    "Les étapes suivantes, de 5 à 12, seront en deux dimensions. Mais il est facile d'étendre les formules aux différences finies 1D aux dérivées partielles en 2D ou 3D. Appliquez simplement la définition — une dérivée partielle par rapport à $x$ est la variation dans la direction $x$ *tout en gardant $y$ constant*.\n",
    "\n",
    "Avant de passer à l'[Étape 5](./07_Step_5.ipynb), assurez-vous d'avoir terminé votre propre code pour les étapes 1 à 4 et d'avoir expérimenté les paramètres et réfléchi à ce qui se passe. Nous vous recommandons également de faire une petite pause pour en savoir plus sur les [opérations sur les tableaux avec NumPy](./06_Array_Operations_with_NumPy.ipynb)."
   ]
  },
  {
   "cell_type": "code",
   "execution_count": 13,
   "metadata": {},
   "outputs": [
    {
     "data": {
      "text/html": [
       "<link href='http://fonts.googleapis.com/css?family=Fenix' rel='stylesheet' type='text/css'>\n",
       "<link href='http://fonts.googleapis.com/css?family=Alegreya+Sans:100,300,400,500,700,800,900,100italic,300italic,400italic,500italic,700italic,800italic,900italic' rel='stylesheet' type='text/css'>\n",
       "<link href='http://fonts.googleapis.com/css?family=Source+Code+Pro:300,400' rel='stylesheet' type='text/css'>\n",
       "<style>\n",
       "    @font-face {\n",
       "        font-family: \"Computer Modern\";\n",
       "        src: url('http://mirrors.ctan.org/fonts/cm-unicode/fonts/otf/cmunss.otf');\n",
       "    }\n",
       "    div.cell{\n",
       "        width:800px;\n",
       "        margin-left:16% !important;\n",
       "        margin-right:auto;\n",
       "    }\n",
       "    h1 {\n",
       "        font-family: 'Alegreya Sans', sans-serif;\n",
       "    }\n",
       "    h2 {\n",
       "        font-family: 'Fenix', serif;\n",
       "    }\n",
       "    h3{\n",
       "\t\tfont-family: 'Fenix', serif;\n",
       "        margin-top:12px;\n",
       "        margin-bottom: 3px;\n",
       "       }\n",
       "\th4{\n",
       "\t\tfont-family: 'Fenix', serif;\n",
       "       }\n",
       "    h5 {\n",
       "        font-family: 'Alegreya Sans', sans-serif;\n",
       "    }\t   \n",
       "    div.text_cell_render{\n",
       "        font-family: 'Alegreya Sans',Computer Modern, \"Helvetica Neue\", Arial, Helvetica, Geneva, sans-serif;\n",
       "        line-height: 135%;\n",
       "        font-size: 120%;\n",
       "        width:600px;\n",
       "        margin-left:auto;\n",
       "        margin-right:auto;\n",
       "    }\n",
       "    .CodeMirror{\n",
       "            font-family: \"Source Code Pro\";\n",
       "\t\t\tfont-size: 90%;\n",
       "    }\n",
       "/*    .prompt{\n",
       "        display: None;\n",
       "    }*/\n",
       "    .text_cell_render h1 {\n",
       "        font-weight: 200;\n",
       "        font-size: 50pt;\n",
       "\t\tline-height: 100%;\n",
       "        color:#CD2305;\n",
       "        margin-bottom: 0.5em;\n",
       "        margin-top: 0.5em;\n",
       "        display: block;\n",
       "    }\t\n",
       "    .text_cell_render h5 {\n",
       "        font-weight: 300;\n",
       "        font-size: 16pt;\n",
       "        color: #CD2305;\n",
       "        font-style: italic;\n",
       "        margin-bottom: .5em;\n",
       "        margin-top: 0.5em;\n",
       "        display: block;\n",
       "    }\n",
       "    \n",
       "    .warning{\n",
       "        color: rgb( 240, 20, 20 )\n",
       "        }  \n",
       "</style>\n",
       "<script>\n",
       "    MathJax.Hub.Config({\n",
       "                        TeX: {\n",
       "                           extensions: [\"AMSmath.js\"]\n",
       "                           },\n",
       "                tex2jax: {\n",
       "                    inlineMath: [ ['$','$'], [\"\\\\(\",\"\\\\)\"] ],\n",
       "                    displayMath: [ ['$$','$$'], [\"\\\\[\",\"\\\\]\"] ]\n",
       "                },\n",
       "                displayAlign: 'center', // Change this to 'center' to center equations.\n",
       "                \"HTML-CSS\": {\n",
       "                    styles: {'.MathJax_Display': {\"margin\": 4}}\n",
       "                }\n",
       "        });\n",
       "</script>\n"
      ],
      "text/plain": [
       "<IPython.core.display.HTML object>"
      ]
     },
     "execution_count": 13,
     "metadata": {},
     "output_type": "execute_result"
    }
   ],
   "source": [
    "from IPython.core.display import HTML\n",
    "def css_styling():\n",
    "    styles = open(\"../styles/custom.css\", \"r\").read()\n",
    "    return HTML(styles)\n",
    "css_styling()"
   ]
  }
 ],
 "metadata": {
  "kernelspec": {
   "display_name": "Python 3 (ipykernel)",
   "language": "python",
   "name": "python3"
  },
  "language_info": {
   "codemirror_mode": {
    "name": "ipython",
    "version": 3
   },
   "file_extension": ".py",
   "mimetype": "text/x-python",
   "name": "python",
   "nbconvert_exporter": "python",
   "pygments_lexer": "ipython3",
   "version": "3.10.8"
  }
 },
 "nbformat": 4,
 "nbformat_minor": 1
}
